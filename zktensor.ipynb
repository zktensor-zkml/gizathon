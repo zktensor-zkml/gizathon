{
 "cells": [
  {
   "cell_type": "code",
   "execution_count": null,
   "metadata": {
    "vscode": {
     "languageId": "plaintext"
    }
   },
   "outputs": [
    {
     "ename": "",
     "evalue": "",
     "output_type": "error",
     "traceback": [
      "\u001b[1;31mThe kernel failed to start due to the missing module 'zmq'. Consider installing this module.\n",
      "\u001b[1;31mClick <a href='https://aka.ms/kernelFailuresMissingModule'>here</a> for more info."
     ]
    }
   ],
   "source": [
    "# Importing required moduless\n",
    "import numpy as np \n",
    "import pandas as pd \n",
    "import pprint,random\n",
    "\n",
    "from scipy.ndimage.interpolation import shift\n",
    "import matplotlib.pyplot as plt\n",
    "\n",
    "from keras.models import Sequential\n",
    "from keras.layers import Dense,Dropout\n",
    "from keras.optimizers import SGD\n",
    "lass tic_tac_toe_game(object):\n",
    "    def __init__(self):\n",
    "        self.board=np.full((3,3),2)\n",
    "\n",
    "    def toss(self):\n",
    "        \"\"\"Function to simulate a toss and decide which player goes first\n",
    "\n",
    "        Args:\n",
    "\n",
    "        Returns:\n",
    "        Returns 1 if player assigned mark 1 has won, or 0 if his opponent won\n",
    "\n",
    "        \"\"\"\n",
    "        turn=np.random.randint(0,2,size=1)\n",
    "        if turn.mean()==0:\n",
    "            self.turn_monitor=0\n",
    "        elif turn.mean()==1:\n",
    "            self.turn_monitor=1\n",
    "        return self.turn_monitor\n",
    "\n",
    "    def move(self,player,coord):\n",
    "        \"\"\"Function to perform the action of placing a mark on the tic tac toe board\n",
    "        After performing the action, this function flips the value of the turn_monitor to \n",
    "        the next player\n",
    "\n",
    "        Args:\n",
    "        player: 1 if player who is assigned the mark 1 is performing the action, \n",
    "        0 if his opponent is performing the action\n",
    "        coord: The coordinate where the 1 or 0 is to be placed on the \n",
    "        tic-tac-toe board (numpy array)\n",
    "\n",
    "        Returns:\n",
    "        game_status(): Calls the game status function and returns its value\n",
    "        board: Returns the new board state after making the move\n",
    "\n",
    "        \"\"\"\n",
    "        if self.board[coord]!=2 or self.game_status()!=\"In Progress\" or self.turn_monitor!=player:\n",
    "            raise ValueError(\"Invalid move\")\n",
    "        self.board[coord]=player\n",
    "        self.turn_monitor=1-player\n",
    "        return self.game_status(),self.board\n",
    "\n",
    "\n",
    "    def game_status(self):\n",
    "        \"\"\"Function to check the current status of the game, \n",
    "        whether the game has been won, drawn or is in progress\n",
    "\n",
    "        Args:\n",
    "\n",
    "        Returns:\n",
    "        \"Won\" if the game has been won, \"Drawn\" if the \n",
    "        game has been drawn, or \"In Progress\", if the game is still in progress\n",
    "\n",
    "        \"\"\"\n",
    "        #check for a win along rows\n",
    "        for i in range(self.board.shape[0]):\n",
    "            if 2 not in self.board[i,:] and len(set(self.board[i,:]))==1:\n",
    "                return \"Won\"\n",
    "        #check for a win along columns\n",
    "        for j in range(self.board.shape[1]):\n",
    "            if 2 not in self.board[:,j] and len(set(self.board[:,j]))==1:\n",
    "                return \"Won\"\n",
    "        # check for a win along diagonals\n",
    "        if 2 not in np.diag(self.board) and len(set(np.diag(self.board)))==1:\n",
    "            return \"Won\"\n",
    "        if 2 not in np.diag(np.fliplr(self.board)) and len(set(np.diag(np.fliplr(self.board))))==1:\n",
    "            return \"Won\"\n",
    "        # check for a Draw\n",
    "        if not 2 in self.board:\n",
    "            return \"Drawn\"\n",
    "        else:\n",
    "            return \"In Progress\"\n"
   ]
  },
  {
   "cell_type": "code",
   "execution_count": null,
   "metadata": {
    "vscode": {
     "languageId": "plaintext"
    }
   },
   "outputs": [],
   "source": []
  }
 ],
 "metadata": {
  "kernelspec": {
   "display_name": "Xonsh",
   "language": "xonsh",
   "name": "xonsh"
  },
  "language_info": {
   "name": "xonsh"
  }
 },
 "nbformat": 4,
 "nbformat_minor": 2
}
